{
 "cells": [
  {
   "cell_type": "markdown",
   "metadata": {},
   "source": [
    "# Export Twitter Friends\n",
    "\n",
    "This notebook can be used to export a list of all accounts you are following on Twitter."
   ]
  },
  {
   "cell_type": "code",
   "execution_count": 1,
   "metadata": {},
   "outputs": [],
   "source": [
    "import os\n",
    "import tweepy\n",
    "import pandas as pd\n",
    "from dotenv import load_dotenv"
   ]
  },
  {
   "cell_type": "code",
   "execution_count": null,
   "metadata": {},
   "outputs": [],
   "source": [
    "# Rename the .env.example file to .env and add your keys. \n",
    "# Load the Twitter API keys from the .env file.\n",
    "load_dotenv(\".env\")"
   ]
  },
  {
   "cell_type": "code",
   "execution_count": 5,
   "metadata": {},
   "outputs": [],
   "source": [
    "# Initilize the Twitter API\n",
    "auth = tweepy.OAuthHandler(os.environ.get(\"API_KEY\"), os.environ.get(\"API_KEY_SECRET\"))\n",
    "auth.set_access_token(os.environ.get(\"ACCESS_TOKEN\"), os.environ.get(\"ACCESS_TOKEN_SECRET\"))\n",
    "  \n",
    "api = tweepy.API(auth)"
   ]
  },
  {
   "cell_type": "code",
   "execution_count": 6,
   "metadata": {},
   "outputs": [],
   "source": [
    "# Get all accounts you follow from the API\n",
    "friends_list = []\n",
    "for friend in tweepy.Cursor(api.get_friends, count=200).items():\n",
    "    friends_list.append(friend)"
   ]
  },
  {
   "cell_type": "code",
   "execution_count": 42,
   "metadata": {},
   "outputs": [],
   "source": [
    "# Export the most inportant information to a CSV file\n",
    "friends = pd.DataFrame([dict(name=friend.name, screen_name=friend.screen_name, id=friend.id, description=friend.description, image=friend.profile_image_url_https) for friend in friends_list])\n",
    "friends.to_csv(\"friends.csv\")"
   ]
  }
 ],
 "metadata": {
  "kernelspec": {
   "display_name": "Python 3.8.12 ('.venv': venv)",
   "language": "python",
   "name": "python3"
  },
  "language_info": {
   "codemirror_mode": {
    "name": "ipython",
    "version": 3
   },
   "file_extension": ".py",
   "mimetype": "text/x-python",
   "name": "python",
   "nbconvert_exporter": "python",
   "pygments_lexer": "ipython3",
   "version": "3.8.12"
  },
  "orig_nbformat": 4,
  "vscode": {
   "interpreter": {
    "hash": "da3e28e43c800ba3f61b26dd5f928134658b385a773b3dd4563f565e353270c5"
   }
  }
 },
 "nbformat": 4,
 "nbformat_minor": 2
}
